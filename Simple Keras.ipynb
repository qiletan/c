{
 "cells": [
  {
   "cell_type": "code",
   "execution_count": 1,
   "metadata": {},
   "outputs": [],
   "source": [
    "import lightgbm as lgbm\n",
    "from scipy import sparse as ssp\n",
    "from sklearn.model_selection import StratifiedKFold\n",
    "import numpy as np\n",
    "import pandas as pd\n",
    "from sklearn.preprocessing import LabelEncoder\n",
    "from sklearn.preprocessing import OneHotEncoder"
   ]
  },
  {
   "cell_type": "code",
   "execution_count": 2,
   "metadata": {},
   "outputs": [],
   "source": [
    "path = \"data/\"\n",
    "\n",
    "train = pd.read_csv(path+'application_train.csv')\n",
    "train_label = train['TARGET']\n",
    "train_id = train['SK_ID_CURR']\n",
    "test = pd.read_csv(path+'application_test.csv')\n",
    "test_id = test['SK_ID_CURR']\n",
    "\n",
    "column_type = pd.read_csv('data/application_columns.csv')\n",
    "\n",
    "train_len = len(train_id)\n",
    "test_len = len(test_id)"
   ]
  },
  {
   "cell_type": "code",
   "execution_count": 3,
   "metadata": {},
   "outputs": [
    {
     "name": "stdout",
     "output_type": "stream",
     "text": [
      "(307511, 122)\n",
      "(48744, 121)\n",
      "(356255, 122)\n",
      "True\n"
     ]
    }
   ],
   "source": [
    "y_train = train['TARGET'].values\n",
    "\n",
    "drop_feature = ['SK_ID_CURR','TARGET']\n",
    "\n",
    "train_test = pd.concat([train,test],axis=0)\n",
    "\n",
    "print(train.shape)\n",
    "print(test.shape)\n",
    "print(train_test.shape)\n",
    "print(train.shape[0] + test.shape[0] == train_test.shape[0])"
   ]
  },
  {
   "cell_type": "code",
   "execution_count": 4,
   "metadata": {},
   "outputs": [],
   "source": [
    "# cat_features = [f for f in feature_names if X[f].dtype == 'object']\n",
    "# num_features = [c for c in feature_names if ('CNT_'in c or 'AMT_'in c)]\n",
    "# flg_features = [c for c in feature_names if ('FLAG_' in c or )]\n",
    "\n",
    "\n",
    "cat_features = column_type.loc[column_type.categorical==1].column.values.tolist()\n",
    "num_features = column_type.loc[column_type.numerical==1].column.values.tolist()\n",
    "flg_features = column_type.loc[column_type.flag==1].column.values.tolist()\n",
    "\n",
    "#application_features = application_cat_cols + application_num_cols + application_flag_cols"
   ]
  },
  {
   "cell_type": "code",
   "execution_count": 5,
   "metadata": {},
   "outputs": [],
   "source": [
    "# train['missing'] = (train==-1).sum(axis=1).astype(float)\n",
    "# test['missing'] = (test==-1).sum(axis=1).astype(float)\n",
    "# num_features.append('missing')"
   ]
  },
  {
   "cell_type": "code",
   "execution_count": 6,
   "metadata": {},
   "outputs": [],
   "source": [
    "from sklearn.preprocessing import Imputer\n",
    "#from fancyimpute import BiScaler, KNN, NuclearNormMinimization, SoftImpute\n",
    "\n",
    "train_test[cat_features] = train_test[cat_features].fillna('missing') \n",
    "train_test['missing_cols'] =  train_test.isnull().sum(axis=1)\n",
    "\n",
    "num_features.append('missing_cols')\n",
    "\n",
    "#imp = Imputer(missing_values='NaN', strategy='most_frequent', axis=0)\n",
    "\n",
    "impute_train_only = False\n",
    "imp = Imputer(missing_values='NaN', strategy='median', axis=0)\n",
    "\n",
    "if impute_train_only:\n",
    "    imp.fit(train[num_features])\n",
    "    train_test[num_features] = imp.transform(train_test[num_features])\n",
    "else:\n",
    "    train_test[num_features] = imp.fit_transform(train_test[num_features])\n",
    "\n",
    "    "
   ]
  },
  {
   "cell_type": "code",
   "execution_count": 7,
   "metadata": {},
   "outputs": [],
   "source": [
    "from sklearn import preprocessing\n",
    "\n",
    "le = preprocessing.LabelEncoder()\n",
    "# Encode each category into a integer\n",
    "train_test[cat_features] = train_test[cat_features].apply(preprocessing.LabelEncoder().fit_transform)\n"
   ]
  },
  {
   "cell_type": "code",
   "execution_count": 8,
   "metadata": {},
   "outputs": [
    {
     "name": "stdout",
     "output_type": "stream",
     "text": [
      "True\n",
      "True\n"
     ]
    }
   ],
   "source": [
    "\n",
    "one_hot = False\n",
    "\n",
    "if one_hot:\n",
    "    train_test = pd.get_dummies(train_test,columns=cat_features)\n",
    "    cat_features = []\n",
    "\n",
    "\n",
    "\n",
    "train = train_test.loc[train_test.TARGET.notnull()]\n",
    "\n",
    "test = train_test.loc[train_test.TARGET.isnull()]\n",
    "\n",
    "test = test.drop(['TARGET'],axis=1, inplace = False)\n",
    "\n",
    "print(train.shape[0] == train_len)\n",
    "print(test.shape[0] == test_len)"
   ]
  },
  {
   "cell_type": "code",
   "execution_count": 9,
   "metadata": {},
   "outputs": [
    {
     "name": "stdout",
     "output_type": "stream",
     "text": [
      "True\n",
      "True\n",
      "True\n",
      "121\n"
     ]
    }
   ],
   "source": [
    "\n",
    "X_train = train.drop(['SK_ID_CURR', 'TARGET'], axis = 1)\n",
    "y_train = train['TARGET']\n",
    "\n",
    "X_test = test.drop(['SK_ID_CURR'], axis = 1)\n",
    "\n",
    "\n",
    "print(X_train.shape[1] == X_test.shape[1])\n",
    "print(y_train.shape[0] == train_len)\n",
    "print(X_test.shape[0] == test_len)\n",
    "print(X_test.shape[1])\n",
    "\n",
    "\n"
   ]
  },
  {
   "cell_type": "code",
   "execution_count": 10,
   "metadata": {},
   "outputs": [
    {
     "name": "stderr",
     "output_type": "stream",
     "text": [
      "/home/qile/anaconda3/lib/python3.6/site-packages/h5py/__init__.py:36: FutureWarning: Conversion of the second argument of issubdtype from `float` to `np.floating` is deprecated. In future, it will be treated as `np.float64 == np.dtype(float).type`.\n",
      "  from ._conv import register_converters as _register_converters\n",
      "Using TensorFlow backend.\n"
     ]
    }
   ],
   "source": [
    "###### the main NN script##########3\n",
    "\n",
    "from keras.layers import Dense, Dropout, Embedding, Flatten, Input, merge\n",
    "from keras.layers.normalization import BatchNormalization\n",
    "from keras.layers.advanced_activations import PReLU\n",
    "from time import time\n",
    "import datetime\n",
    "from keras.models import Model\n",
    "from sklearn.model_selection import StratifiedKFold\n",
    "import numpy as np\n",
    "import pandas as pd\n",
    "from itertools import combinations\n",
    "from scipy import sparse\n",
    "from sklearn.preprocessing import StandardScaler\n",
    "import pickle\n",
    "from sklearn.preprocessing import LabelEncoder\n"
   ]
  },
  {
   "cell_type": "code",
   "execution_count": 11,
   "metadata": {},
   "outputs": [],
   "source": [
    "def interaction_features(train, test, fea1, fea2, prefix):\n",
    "    train['inter_{}*'.format(prefix)] = train[fea1] * train[fea2]\n",
    "    train['inter_{}/'.format(prefix)] = train[fea1] / train[fea2]\n",
    "\n",
    "    test['inter_{}*'.format(prefix)] = test[fea1] * test[fea2]\n",
    "    test['inter_{}/'.format(prefix)] = test[fea1] / test[fea2]\n",
    "\n",
    "    return train, test\n",
    "\n",
    "def proj_num_on_cat(train_df, test_df, target_column, group_column):\n",
    "    \"\"\"\n",
    "    :param train_df: train data frame\n",
    "    :param test_df:  test data frame\n",
    "    :param target_column: name of numerical feature\n",
    "    :param group_column: name of categorical feature\n",
    "    \"\"\"\n",
    "    train_df['row_id'] = range(train_df.shape[0])\n",
    "    test_df['row_id'] = range(test_df.shape[0])\n",
    "    train_df['train'] = 1\n",
    "    test_df['train'] = 0\n",
    "    all_df = train_df[['row_id', 'train', target_column, group_column]].append(test_df[['row_id','train',\n",
    "                                                                                        target_column, group_column]])\n",
    "    grouped = all_df[[target_column, group_column]].groupby(group_column)\n",
    "    the_size = pd.DataFrame(grouped.size()).reset_index()\n",
    "    the_size.columns = [group_column, '%s_size' % target_column]\n",
    "    the_mean = pd.DataFrame(grouped.mean()).reset_index()\n",
    "    the_mean.columns = [group_column, '%s_mean' % target_column]\n",
    "    the_std = pd.DataFrame(grouped.std()).reset_index().fillna(0)\n",
    "    the_std.columns = [group_column, '%s_std' % target_column]\n",
    "    the_median = pd.DataFrame(grouped.median()).reset_index()\n",
    "    the_median.columns = [group_column, '%s_median' % target_column]\n",
    "    the_stats = pd.merge(the_size, the_mean)\n",
    "    the_stats = pd.merge(the_stats, the_std)\n",
    "    the_stats = pd.merge(the_stats, the_median)\n",
    "\n",
    "    the_max = pd.DataFrame(grouped.max()).reset_index()\n",
    "    the_max.columns = [group_column, '%s_max' % target_column]\n",
    "    the_min = pd.DataFrame(grouped.min()).reset_index()\n",
    "    the_min.columns = [group_column, '%s_min' % target_column]\n",
    "\n",
    "    the_stats = pd.merge(the_stats, the_max)\n",
    "    the_stats = pd.merge(the_stats, the_min)\n",
    "\n",
    "    all_df = pd.merge(all_df, the_stats, how='left')\n",
    "\n",
    "    selected_train = all_df[all_df['train'] == 1]\n",
    "    selected_test = all_df[all_df['train'] == 0]\n",
    "    selected_train.sort_values('row_id', inplace=True)\n",
    "    selected_test.sort_values('row_id', inplace=True)\n",
    "    selected_train.drop([target_column, group_column, 'row_id', 'train'], axis=1, inplace=True)\n",
    "    selected_test.drop([target_column, group_column, 'row_id', 'train'], axis=1, inplace=True)\n",
    "\n",
    "    selected_train, selected_test = np.array(selected_train), np.array(selected_test)\n",
    "    print(selected_train.shape, selected_test.shape)\n",
    "    return selected_train, selected_test"
   ]
  },
  {
   "cell_type": "code",
   "execution_count": 12,
   "metadata": {},
   "outputs": [],
   "source": [
    "num_features = num_features\n",
    "feature_names = list(X_train.columns.values)\n"
   ]
  },
  {
   "cell_type": "code",
   "execution_count": 13,
   "metadata": {},
   "outputs": [
    {
     "data": {
      "text/plain": [
       "['AMT_ANNUITY',\n",
       " 'AMT_CREDIT',\n",
       " 'AMT_GOODS_PRICE',\n",
       " 'AMT_INCOME_TOTAL',\n",
       " 'AMT_REQ_CREDIT_BUREAU_DAY',\n",
       " 'AMT_REQ_CREDIT_BUREAU_HOUR',\n",
       " 'AMT_REQ_CREDIT_BUREAU_MON',\n",
       " 'AMT_REQ_CREDIT_BUREAU_QRT',\n",
       " 'AMT_REQ_CREDIT_BUREAU_WEEK',\n",
       " 'AMT_REQ_CREDIT_BUREAU_YEAR',\n",
       " 'APARTMENTS_AVG',\n",
       " 'APARTMENTS_MEDI',\n",
       " 'APARTMENTS_MODE',\n",
       " 'BASEMENTAREA_AVG',\n",
       " 'BASEMENTAREA_MEDI',\n",
       " 'BASEMENTAREA_MODE',\n",
       " 'CNT_CHILDREN',\n",
       " 'CNT_FAM_MEMBERS',\n",
       " 'CODE_GENDER',\n",
       " 'COMMONAREA_AVG',\n",
       " 'COMMONAREA_MEDI',\n",
       " 'COMMONAREA_MODE',\n",
       " 'DAYS_BIRTH',\n",
       " 'DAYS_EMPLOYED',\n",
       " 'DAYS_ID_PUBLISH',\n",
       " 'DAYS_LAST_PHONE_CHANGE',\n",
       " 'DAYS_REGISTRATION',\n",
       " 'DEF_30_CNT_SOCIAL_CIRCLE',\n",
       " 'DEF_60_CNT_SOCIAL_CIRCLE',\n",
       " 'ELEVATORS_AVG',\n",
       " 'ELEVATORS_MEDI',\n",
       " 'ELEVATORS_MODE',\n",
       " 'EMERGENCYSTATE_MODE',\n",
       " 'ENTRANCES_AVG',\n",
       " 'ENTRANCES_MEDI',\n",
       " 'ENTRANCES_MODE',\n",
       " 'EXT_SOURCE_1',\n",
       " 'EXT_SOURCE_2',\n",
       " 'EXT_SOURCE_3',\n",
       " 'FLAG_CONT_MOBILE',\n",
       " 'FLAG_DOCUMENT_10',\n",
       " 'FLAG_DOCUMENT_11',\n",
       " 'FLAG_DOCUMENT_12',\n",
       " 'FLAG_DOCUMENT_13',\n",
       " 'FLAG_DOCUMENT_14',\n",
       " 'FLAG_DOCUMENT_15',\n",
       " 'FLAG_DOCUMENT_16',\n",
       " 'FLAG_DOCUMENT_17',\n",
       " 'FLAG_DOCUMENT_18',\n",
       " 'FLAG_DOCUMENT_19',\n",
       " 'FLAG_DOCUMENT_2',\n",
       " 'FLAG_DOCUMENT_20',\n",
       " 'FLAG_DOCUMENT_21',\n",
       " 'FLAG_DOCUMENT_3',\n",
       " 'FLAG_DOCUMENT_4',\n",
       " 'FLAG_DOCUMENT_5',\n",
       " 'FLAG_DOCUMENT_6',\n",
       " 'FLAG_DOCUMENT_7',\n",
       " 'FLAG_DOCUMENT_8',\n",
       " 'FLAG_DOCUMENT_9',\n",
       " 'FLAG_EMAIL',\n",
       " 'FLAG_EMP_PHONE',\n",
       " 'FLAG_MOBIL',\n",
       " 'FLAG_OWN_CAR',\n",
       " 'FLAG_OWN_REALTY',\n",
       " 'FLAG_PHONE',\n",
       " 'FLAG_WORK_PHONE',\n",
       " 'FLOORSMAX_AVG',\n",
       " 'FLOORSMAX_MEDI',\n",
       " 'FLOORSMAX_MODE',\n",
       " 'FLOORSMIN_AVG',\n",
       " 'FLOORSMIN_MEDI',\n",
       " 'FLOORSMIN_MODE',\n",
       " 'FONDKAPREMONT_MODE',\n",
       " 'HOUR_APPR_PROCESS_START',\n",
       " 'HOUSETYPE_MODE',\n",
       " 'LANDAREA_AVG',\n",
       " 'LANDAREA_MEDI',\n",
       " 'LANDAREA_MODE',\n",
       " 'LIVE_CITY_NOT_WORK_CITY',\n",
       " 'LIVE_REGION_NOT_WORK_REGION',\n",
       " 'LIVINGAPARTMENTS_AVG',\n",
       " 'LIVINGAPARTMENTS_MEDI',\n",
       " 'LIVINGAPARTMENTS_MODE',\n",
       " 'LIVINGAREA_AVG',\n",
       " 'LIVINGAREA_MEDI',\n",
       " 'LIVINGAREA_MODE',\n",
       " 'NAME_CONTRACT_TYPE',\n",
       " 'NAME_EDUCATION_TYPE',\n",
       " 'NAME_FAMILY_STATUS',\n",
       " 'NAME_HOUSING_TYPE',\n",
       " 'NAME_INCOME_TYPE',\n",
       " 'NAME_TYPE_SUITE',\n",
       " 'NONLIVINGAPARTMENTS_AVG',\n",
       " 'NONLIVINGAPARTMENTS_MEDI',\n",
       " 'NONLIVINGAPARTMENTS_MODE',\n",
       " 'NONLIVINGAREA_AVG',\n",
       " 'NONLIVINGAREA_MEDI',\n",
       " 'NONLIVINGAREA_MODE',\n",
       " 'OBS_30_CNT_SOCIAL_CIRCLE',\n",
       " 'OBS_60_CNT_SOCIAL_CIRCLE',\n",
       " 'OCCUPATION_TYPE',\n",
       " 'ORGANIZATION_TYPE',\n",
       " 'OWN_CAR_AGE',\n",
       " 'REGION_POPULATION_RELATIVE',\n",
       " 'REGION_RATING_CLIENT',\n",
       " 'REGION_RATING_CLIENT_W_CITY',\n",
       " 'REG_CITY_NOT_LIVE_CITY',\n",
       " 'REG_CITY_NOT_WORK_CITY',\n",
       " 'REG_REGION_NOT_LIVE_REGION',\n",
       " 'REG_REGION_NOT_WORK_REGION',\n",
       " 'TOTALAREA_MODE',\n",
       " 'WALLSMATERIAL_MODE',\n",
       " 'WEEKDAY_APPR_PROCESS_START',\n",
       " 'YEARS_BEGINEXPLUATATION_AVG',\n",
       " 'YEARS_BEGINEXPLUATATION_MEDI',\n",
       " 'YEARS_BEGINEXPLUATATION_MODE',\n",
       " 'YEARS_BUILD_AVG',\n",
       " 'YEARS_BUILD_MEDI',\n",
       " 'YEARS_BUILD_MODE',\n",
       " 'missing_cols']"
      ]
     },
     "execution_count": 13,
     "metadata": {},
     "output_type": "execute_result"
    }
   ],
   "source": [
    "list(X_train.columns.values)"
   ]
  },
  {
   "cell_type": "code",
   "execution_count": 16,
   "metadata": {},
   "outputs": [
    {
     "data": {
      "text/html": [
       "<div>\n",
       "<style scoped>\n",
       "    .dataframe tbody tr th:only-of-type {\n",
       "        vertical-align: middle;\n",
       "    }\n",
       "\n",
       "    .dataframe tbody tr th {\n",
       "        vertical-align: top;\n",
       "    }\n",
       "\n",
       "    .dataframe thead th {\n",
       "        text-align: right;\n",
       "    }\n",
       "</style>\n",
       "<table border=\"1\" class=\"dataframe\">\n",
       "  <thead>\n",
       "    <tr style=\"text-align: right;\">\n",
       "      <th></th>\n",
       "      <th>AMT_ANNUITY</th>\n",
       "      <th>AMT_CREDIT</th>\n",
       "      <th>AMT_GOODS_PRICE</th>\n",
       "      <th>AMT_INCOME_TOTAL</th>\n",
       "      <th>AMT_REQ_CREDIT_BUREAU_DAY</th>\n",
       "      <th>AMT_REQ_CREDIT_BUREAU_HOUR</th>\n",
       "      <th>AMT_REQ_CREDIT_BUREAU_MON</th>\n",
       "      <th>AMT_REQ_CREDIT_BUREAU_QRT</th>\n",
       "      <th>AMT_REQ_CREDIT_BUREAU_WEEK</th>\n",
       "      <th>AMT_REQ_CREDIT_BUREAU_YEAR</th>\n",
       "      <th>...</th>\n",
       "      <th>TOTALAREA_MODE</th>\n",
       "      <th>WALLSMATERIAL_MODE</th>\n",
       "      <th>WEEKDAY_APPR_PROCESS_START</th>\n",
       "      <th>YEARS_BEGINEXPLUATATION_AVG</th>\n",
       "      <th>YEARS_BEGINEXPLUATATION_MEDI</th>\n",
       "      <th>YEARS_BEGINEXPLUATATION_MODE</th>\n",
       "      <th>YEARS_BUILD_AVG</th>\n",
       "      <th>YEARS_BUILD_MEDI</th>\n",
       "      <th>YEARS_BUILD_MODE</th>\n",
       "      <th>missing_cols</th>\n",
       "    </tr>\n",
       "  </thead>\n",
       "  <tbody>\n",
       "    <tr>\n",
       "      <th>0</th>\n",
       "      <td>20560.5</td>\n",
       "      <td>568800.0</td>\n",
       "      <td>450000.0</td>\n",
       "      <td>135000.0</td>\n",
       "      <td>0.0</td>\n",
       "      <td>0.0</td>\n",
       "      <td>0.0</td>\n",
       "      <td>0.0</td>\n",
       "      <td>0.0</td>\n",
       "      <td>0.0</td>\n",
       "      <td>...</td>\n",
       "      <td>0.0392</td>\n",
       "      <td>5</td>\n",
       "      <td>5</td>\n",
       "      <td>0.9732</td>\n",
       "      <td>0.9732</td>\n",
       "      <td>0.9732</td>\n",
       "      <td>0.7552</td>\n",
       "      <td>0.7585</td>\n",
       "      <td>0.7648</td>\n",
       "      <td>26.0</td>\n",
       "    </tr>\n",
       "    <tr>\n",
       "      <th>1</th>\n",
       "      <td>17370.0</td>\n",
       "      <td>222768.0</td>\n",
       "      <td>180000.0</td>\n",
       "      <td>99000.0</td>\n",
       "      <td>0.0</td>\n",
       "      <td>0.0</td>\n",
       "      <td>0.0</td>\n",
       "      <td>0.0</td>\n",
       "      <td>0.0</td>\n",
       "      <td>3.0</td>\n",
       "      <td>...</td>\n",
       "      <td>0.0690</td>\n",
       "      <td>7</td>\n",
       "      <td>0</td>\n",
       "      <td>0.9816</td>\n",
       "      <td>0.9816</td>\n",
       "      <td>0.9816</td>\n",
       "      <td>0.7552</td>\n",
       "      <td>0.7585</td>\n",
       "      <td>0.7648</td>\n",
       "      <td>45.0</td>\n",
       "    </tr>\n",
       "  </tbody>\n",
       "</table>\n",
       "<p>2 rows × 121 columns</p>\n",
       "</div>"
      ],
      "text/plain": [
       "   AMT_ANNUITY  AMT_CREDIT  AMT_GOODS_PRICE  AMT_INCOME_TOTAL  \\\n",
       "0      20560.5    568800.0         450000.0          135000.0   \n",
       "1      17370.0    222768.0         180000.0           99000.0   \n",
       "\n",
       "   AMT_REQ_CREDIT_BUREAU_DAY  AMT_REQ_CREDIT_BUREAU_HOUR  \\\n",
       "0                        0.0                         0.0   \n",
       "1                        0.0                         0.0   \n",
       "\n",
       "   AMT_REQ_CREDIT_BUREAU_MON  AMT_REQ_CREDIT_BUREAU_QRT  \\\n",
       "0                        0.0                        0.0   \n",
       "1                        0.0                        0.0   \n",
       "\n",
       "   AMT_REQ_CREDIT_BUREAU_WEEK  AMT_REQ_CREDIT_BUREAU_YEAR      ...       \\\n",
       "0                         0.0                         0.0      ...        \n",
       "1                         0.0                         3.0      ...        \n",
       "\n",
       "   TOTALAREA_MODE  WALLSMATERIAL_MODE  WEEKDAY_APPR_PROCESS_START  \\\n",
       "0          0.0392                   5                           5   \n",
       "1          0.0690                   7                           0   \n",
       "\n",
       "   YEARS_BEGINEXPLUATATION_AVG  YEARS_BEGINEXPLUATATION_MEDI  \\\n",
       "0                       0.9732                        0.9732   \n",
       "1                       0.9816                        0.9816   \n",
       "\n",
       "   YEARS_BEGINEXPLUATATION_MODE  YEARS_BUILD_AVG  YEARS_BUILD_MEDI  \\\n",
       "0                        0.9732           0.7552            0.7585   \n",
       "1                        0.9816           0.7552            0.7585   \n",
       "\n",
       "   YEARS_BUILD_MODE  missing_cols  \n",
       "0            0.7648          26.0  \n",
       "1            0.7648          45.0  \n",
       "\n",
       "[2 rows x 121 columns]"
      ]
     },
     "execution_count": 16,
     "metadata": {},
     "output_type": "execute_result"
    }
   ],
   "source": [
    "X_test.head(2)"
   ]
  },
  {
   "cell_type": "code",
   "execution_count": 17,
   "metadata": {},
   "outputs": [
    {
     "name": "stdout",
     "output_type": "stream",
     "text": [
      "(307511, 72) (48744, 72)\n"
     ]
    }
   ],
   "source": [
    "train_cat = X_train[cat_features]\n",
    "train_num = X_train[num_features]\n",
    "test_cat = X_test[cat_features]\n",
    "test_num = X_test[num_features]\n",
    "\n",
    "max_cat_values = list(train_test[cat_features].max())\n",
    "\n",
    "\n",
    "train_list = train_num\n",
    "test_list = test_num\n",
    "\n",
    "all_data = np.vstack([train_num.values, test_num.values])\n",
    "scaler = StandardScaler()\n",
    "scaler.fit(all_data)\n",
    "X = scaler.transform(train_num.values)\n",
    "X_test = scaler.transform(test_num.values)\n",
    "print(X.shape, X_test.shape)"
   ]
  },
  {
   "cell_type": "code",
   "execution_count": 21,
   "metadata": {},
   "outputs": [
    {
     "data": {
      "text/plain": [
       "[1, 2, 1, 1, 7, 7, 4, 5, 5, 18, 6, 23, 57, 4, 3, 7, 2]"
      ]
     },
     "execution_count": 21,
     "metadata": {},
     "output_type": "execute_result"
    }
   ],
   "source": [
    "max_cat_values"
   ]
  },
  {
   "cell_type": "code",
   "execution_count": 143,
   "metadata": {},
   "outputs": [],
   "source": [
    "cv_train = np.zeros(len(y_train))\n",
    "cv_pred = np.zeros(len(test_id))"
   ]
  },
  {
   "cell_type": "code",
   "execution_count": 79,
   "metadata": {},
   "outputs": [],
   "source": [
    "X_cat = train_cat.as_matrix()\n",
    "X_test_cat = test_cat.as_matrix()\n",
    "\n",
    "x_test_cat = []\n",
    "for i in range(X_test_cat.shape[1]):\n",
    "    x_test_cat.append(X_test_cat[:, i].reshape(-1, 1))\n",
    "x_test_cat.append(X_test)"
   ]
  },
  {
   "cell_type": "code",
   "execution_count": 80,
   "metadata": {},
   "outputs": [
    {
     "data": {
      "text/plain": [
       "(307511, 17)"
      ]
     },
     "execution_count": 80,
     "metadata": {},
     "output_type": "execute_result"
    }
   ],
   "source": [
    "X_cat.shape"
   ]
  },
  {
   "cell_type": "code",
   "execution_count": 89,
   "metadata": {},
   "outputs": [
    {
     "data": {
      "text/plain": [
       "18"
      ]
     },
     "execution_count": 89,
     "metadata": {},
     "output_type": "execute_result"
    }
   ],
   "source": [
    "len(x_test_cat)"
   ]
  },
  {
   "cell_type": "code",
   "execution_count": 123,
   "metadata": {},
   "outputs": [],
   "source": [
    "def nn_model():\n",
    "    inputs_cat = []\n",
    "    flatten_layers_cat = []\n",
    "    inputs_other = []\n",
    "    flatten_layers_other = []\n",
    "    for e, c in enumerate(cat_features):\n",
    "        input_c = Input(shape=(1, ), dtype='int32')\n",
    "        num_c = max_cat_values[e] + 1 ## correct?\n",
    "        embed_c = Embedding(\n",
    "            num_c,\n",
    "            6,\n",
    "            input_length=1#,\n",
    "            #name= 'embedding_layer_' + str(e)\n",
    "        )(input_c)\n",
    "        embed_c = Dropout(0.25)(embed_c)\n",
    "        flatten_c = Flatten()(embed_c)\n",
    "\n",
    "        inputs_cat.append(input_c)\n",
    "        flatten_layers_cat.append(flatten_c)\n",
    "    \n",
    "    flatten_layers_cat = merge(flatten_layers_cat, mode='concat', name='embedding')\n",
    "    \n",
    "    \n",
    "    \n",
    "#     input_num = Input(shape=(X.shape[1],), dtype='float32')\n",
    "#     flatten_layers.append(input_num)\n",
    "#     inputs.append(input_num)\n",
    "    \n",
    "    \n",
    "    input_num = Input(shape=(X.shape[1],), dtype='float32')\n",
    "    flatten_layers_other.append(input_num)\n",
    "    \n",
    "    inputs_cat.append(input_num)\n",
    "    \n",
    "    #flatten_layers_other = merge(flatten_layers_other, mode='concat', name='other')\n",
    "    \n",
    "    flatten_layers_all = merge([flatten_layers_cat,input_num], mode='concat', name='all')\n",
    "    \n",
    "    fc1 = Dense(512, init='he_normal')(flatten_layers_all)\n",
    "    fc1 = PReLU()(fc1)\n",
    "    fc1 = BatchNormalization()(fc1)\n",
    "    fc1 = Dropout(0.75)(fc1)\n",
    "\n",
    "    fc1 = Dense(64, init='he_normal')(fc1)\n",
    "    fc1 = PReLU()(fc1)\n",
    "    fc1 = BatchNormalization()(fc1)\n",
    "    fc1 = Dropout(0.5)(fc1)\n",
    "\n",
    "    outputs = Dense(1, init='he_normal', activation='sigmoid')(fc1)\n",
    "\n",
    "    model = Model(input = inputs_cat, output = outputs)\n",
    "    model.compile(loss='binary_crossentropy', optimizer='adam')\n",
    "    return (model)\n"
   ]
  },
  {
   "cell_type": "code",
   "execution_count": 144,
   "metadata": {},
   "outputs": [
    {
     "name": "stderr",
     "output_type": "stream",
     "text": [
      "/home/qile/anaconda3/lib/python3.6/site-packages/ipykernel_launcher.py:21: UserWarning: The `merge` function is deprecated and will be removed after 08/2017. Use instead layers from `keras.layers.merge`, e.g. `add`, `concatenate`, etc.\n",
      "/home/qile/anaconda3/lib/python3.6/site-packages/keras/legacy/layers.py:465: UserWarning: The `Merge` layer is deprecated and will be removed after 08/2017. Use instead layers from `keras.layers.merge`, e.g. `add`, `concatenate`, etc.\n",
      "  name=name)\n",
      "/home/qile/anaconda3/lib/python3.6/site-packages/ipykernel_launcher.py:37: UserWarning: The `merge` function is deprecated and will be removed after 08/2017. Use instead layers from `keras.layers.merge`, e.g. `add`, `concatenate`, etc.\n",
      "/home/qile/anaconda3/lib/python3.6/site-packages/ipykernel_launcher.py:39: UserWarning: Update your `Dense` call to the Keras 2 API: `Dense(512, kernel_initializer=\"he_normal\")`\n",
      "/home/qile/anaconda3/lib/python3.6/site-packages/ipykernel_launcher.py:44: UserWarning: Update your `Dense` call to the Keras 2 API: `Dense(64, kernel_initializer=\"he_normal\")`\n",
      "/home/qile/anaconda3/lib/python3.6/site-packages/ipykernel_launcher.py:49: UserWarning: Update your `Dense` call to the Keras 2 API: `Dense(1, activation=\"sigmoid\", kernel_initializer=\"he_normal\")`\n",
      "/home/qile/anaconda3/lib/python3.6/site-packages/ipykernel_launcher.py:51: UserWarning: Update your `Model` call to the Keras 2 API: `Model(inputs=[<tf.Tenso..., outputs=Tensor(\"de...)`\n"
     ]
    },
    {
     "name": "stdout",
     "output_type": "stream",
     "text": [
      "Train on 246008 samples, validate on 61503 samples\n",
      "Epoch 1/4\n",
      " - 11s - loss: 0.4094 - val_loss: 0.2686\n",
      "Epoch 2/4\n",
      " - 6s - loss: 0.2789 - val_loss: 0.2612\n",
      "Epoch 3/4\n",
      " - 6s - loss: 0.2685 - val_loss: 0.2554\n",
      "Epoch 4/4\n",
      " - 6s - loss: 0.2631 - val_loss: 0.2547\n",
      "0.7375765506588142\n",
      "Train on 246009 samples, validate on 61502 samples\n",
      "Epoch 1/4\n",
      " - 11s - loss: 0.4088 - val_loss: 0.2701\n",
      "Epoch 2/4\n",
      " - 6s - loss: 0.2778 - val_loss: 0.2600\n",
      "Epoch 3/4\n",
      " - 6s - loss: 0.2686 - val_loss: 0.2552\n",
      "Epoch 4/4\n",
      " - 6s - loss: 0.2629 - val_loss: 0.2545\n",
      "0.7380705424734021\n",
      "Train on 246009 samples, validate on 61502 samples\n",
      "Epoch 1/4\n",
      " - 12s - loss: 0.4096 - val_loss: 0.2697\n",
      "Epoch 2/4\n",
      " - 6s - loss: 0.2776 - val_loss: 0.2635\n",
      "Epoch 3/4\n",
      " - 6s - loss: 0.2682 - val_loss: 0.2567\n",
      "Epoch 4/4\n",
      " - 6s - loss: 0.2633 - val_loss: 0.2543\n",
      "0.739280508601511\n",
      "Train on 246009 samples, validate on 61502 samples\n",
      "Epoch 1/4\n",
      " - 12s - loss: 0.3997 - val_loss: 0.2711\n",
      "Epoch 2/4\n",
      " - 6s - loss: 0.2763 - val_loss: 0.2604\n",
      "Epoch 3/4\n",
      " - 6s - loss: 0.2670 - val_loss: 0.2576\n",
      "Epoch 4/4\n",
      " - 6s - loss: 0.2623 - val_loss: 0.2552\n",
      "0.736062124098753\n",
      "Train on 246009 samples, validate on 61502 samples\n",
      "Epoch 1/4\n",
      " - 12s - loss: 0.4063 - val_loss: 0.2674\n",
      "Epoch 2/4\n",
      " - 6s - loss: 0.2779 - val_loss: 0.2593\n",
      "Epoch 3/4\n",
      " - 6s - loss: 0.2686 - val_loss: 0.2554\n",
      "Epoch 4/4\n",
      " - 6s - loss: 0.2638 - val_loss: 0.2545\n",
      "0.7419206853656832\n",
      "0.738402161457933\n",
      "0:02:57.088346\n"
     ]
    }
   ],
   "source": [
    "from sklearn.metrics import roc_auc_score, precision_recall_curve, roc_curve\n",
    "\n",
    "# X_cat = train_cat.as_matrix()\n",
    "# X_test_cat = test_cat.as_matrix()\n",
    "# cv_train = np.zeros(len(y_train))\n",
    "# cv_pred = np.zeros(len(test_id))\n",
    "\n",
    "\n",
    "# x_test_cat = []\n",
    "# for i in range(X_test_cat.shape[1]):\n",
    "#     x_test_cat.append(X_test_cat[:, i].reshape(-1, 1))\n",
    "# x_test_cat.append(X_test)\n",
    "\n",
    "begintime = time()\n",
    "\n",
    "NFOLDS = 5\n",
    "kfold = StratifiedKFold(n_splits=NFOLDS, shuffle=True, random_state=218)\n",
    "\n",
    "for (inTr, inTe) in kfold.split(X, y_train):\n",
    "    xtr = X[inTr]\n",
    "    ytr = y_train[inTr]\n",
    "    xte = X[inTe]\n",
    "    yte = y_train[inTe]\n",
    "\n",
    "    xtr_cat = X_cat[inTr]\n",
    "    xte_cat = X_cat[inTe]\n",
    "\n",
    "    # get xtr xte cat\n",
    "    xtr_cat_list, xte_cat_list = [], []\n",
    "    for i in range(xtr_cat.shape[1]):\n",
    "        xtr_cat_list.append(xtr_cat[:, i].reshape(-1, 1))\n",
    "        xte_cat_list.append(xte_cat[:, i].reshape(-1, 1))\n",
    "\n",
    "    xtr_cat_list.append(xtr)\n",
    "    xte_cat_list.append(xte)\n",
    "\n",
    "    model = nn_model()\n",
    "#     def get_rank(x):\n",
    "#         return pd.Series(x).rank(pct=True).values\n",
    "    model.fit(xtr_cat_list, ytr, epochs=4, batch_size=512, verbose=2, validation_data=[xte_cat_list, yte])\n",
    "    #cv_train[inTe] += get_rank(model.predict(x=xte_cat_list, batch_size=512, verbose=0)[:, 0])\n",
    "    cv_train[inTe] += model.predict(x=xte_cat_list, batch_size=512, verbose=0)[:, 0]\n",
    "\n",
    "    print(roc_auc_score(train_label[inTe], cv_train[inTe]))\n",
    "    #cv_pred += get_rank(model.predict(x=x_test_cat, batch_size=512, verbose=0)[:, 0])\n",
    "    cv_pred += model.predict(x=x_test_cat, batch_size=512, verbose=0)[:, 0]\n",
    "#print(s)\n",
    "#print(roc_auc_score(train_label, cv_train / (1. * (s + 1))))\n",
    "print(roc_auc_score(train_label, cv_train))\n",
    "\n",
    "print(str(datetime.timedelta(seconds=time() - begintime)))\n",
    "# if save_cv:\n",
    "# pd.DataFrame({'id': test_id, 'target': get_rank(cv_pred * 1./ (NFOLDS * num_seeds))}).to_csv('../model/keras5_pred.csv', index=False)\n",
    "# pd.DataFrame({'id': train_id, 'target': get_rank(cv_train * 1. / num_seeds)}).to_csv('../model/keras5_cv.csv', index=False)\n"
   ]
  },
  {
   "cell_type": "code",
   "execution_count": 125,
   "metadata": {},
   "outputs": [
    {
     "data": {
      "text/plain": [
       "(307511,)"
      ]
     },
     "execution_count": 125,
     "metadata": {},
     "output_type": "execute_result"
    }
   ],
   "source": [
    "cv_train.shape"
   ]
  },
  {
   "cell_type": "code",
   "execution_count": 145,
   "metadata": {},
   "outputs": [
    {
     "name": "stdout",
     "output_type": "stream",
     "text": [
      "0.738402161457933\n"
     ]
    }
   ],
   "source": [
    "print(roc_auc_score(train_label, cv_train))\n"
   ]
  },
  {
   "cell_type": "code",
   "execution_count": 146,
   "metadata": {},
   "outputs": [
    {
     "name": "stdout",
     "output_type": "stream",
     "text": [
      "0.738402161457933\n"
     ]
    }
   ],
   "source": [
    "print(roc_auc_score(train_label, cv_train))\n"
   ]
  },
  {
   "cell_type": "code",
   "execution_count": 142,
   "metadata": {},
   "outputs": [
    {
     "data": {
      "text/plain": [
       "2.211038887500763"
      ]
     },
     "execution_count": 142,
     "metadata": {},
     "output_type": "execute_result"
    }
   ],
   "source": [
    "cv_train.max()"
   ]
  },
  {
   "cell_type": "code",
   "execution_count": 147,
   "metadata": {},
   "outputs": [],
   "source": [
    "save_cv= True \n",
    "if save_cv:\n",
    "    pd.DataFrame({'SK_ID_CURR': test_id, 'TARGET': cv_pred * 1./ (NFOLDS)}).to_csv('model/keras5_pred.csv', index=False)\n",
    "    pd.DataFrame({'SK_ID_CURR': train_id, 'TARGET': cv_train}).to_csv('model/keras5_cv.csv', index=False)\n",
    "    "
   ]
  },
  {
   "cell_type": "code",
   "execution_count": 148,
   "metadata": {},
   "outputs": [
    {
     "name": "stdout",
     "output_type": "stream",
     "text": [
      "0.729\r\n"
     ]
    }
   ],
   "source": [
    "!kg submit 'model/keras5_pred.csv' -u username -p password -c home-credit-default-risk -m \"FIRST NN 4 epho 0.7398976445912158\"\n"
   ]
  },
  {
   "cell_type": "code",
   "execution_count": 149,
   "metadata": {},
   "outputs": [
    {
     "name": "stdout",
     "output_type": "stream",
     "text": [
      "__________________________________________________________________________________________________\n",
      "Layer (type)                    Output Shape         Param #     Connected to                     \n",
      "==================================================================================================\n",
      "input_614 (InputLayer)          (None, 1)            0                                            \n",
      "__________________________________________________________________________________________________\n",
      "input_615 (InputLayer)          (None, 1)            0                                            \n",
      "__________________________________________________________________________________________________\n",
      "input_616 (InputLayer)          (None, 1)            0                                            \n",
      "__________________________________________________________________________________________________\n",
      "input_617 (InputLayer)          (None, 1)            0                                            \n",
      "__________________________________________________________________________________________________\n",
      "input_618 (InputLayer)          (None, 1)            0                                            \n",
      "__________________________________________________________________________________________________\n",
      "input_619 (InputLayer)          (None, 1)            0                                            \n",
      "__________________________________________________________________________________________________\n",
      "input_620 (InputLayer)          (None, 1)            0                                            \n",
      "__________________________________________________________________________________________________\n",
      "input_621 (InputLayer)          (None, 1)            0                                            \n",
      "__________________________________________________________________________________________________\n",
      "input_622 (InputLayer)          (None, 1)            0                                            \n",
      "__________________________________________________________________________________________________\n",
      "input_623 (InputLayer)          (None, 1)            0                                            \n",
      "__________________________________________________________________________________________________\n",
      "input_624 (InputLayer)          (None, 1)            0                                            \n",
      "__________________________________________________________________________________________________\n",
      "input_625 (InputLayer)          (None, 1)            0                                            \n",
      "__________________________________________________________________________________________________\n",
      "input_626 (InputLayer)          (None, 1)            0                                            \n",
      "__________________________________________________________________________________________________\n",
      "input_627 (InputLayer)          (None, 1)            0                                            \n",
      "__________________________________________________________________________________________________\n",
      "input_628 (InputLayer)          (None, 1)            0                                            \n",
      "__________________________________________________________________________________________________\n",
      "input_629 (InputLayer)          (None, 1)            0                                            \n",
      "__________________________________________________________________________________________________\n",
      "input_630 (InputLayer)          (None, 1)            0                                            \n",
      "__________________________________________________________________________________________________\n",
      "embedding_477 (Embedding)       (None, 1, 6)         12          input_614[0][0]                  \n",
      "__________________________________________________________________________________________________\n",
      "embedding_478 (Embedding)       (None, 1, 6)         18          input_615[0][0]                  \n",
      "__________________________________________________________________________________________________\n",
      "embedding_479 (Embedding)       (None, 1, 6)         12          input_616[0][0]                  \n",
      "__________________________________________________________________________________________________\n",
      "embedding_480 (Embedding)       (None, 1, 6)         12          input_617[0][0]                  \n",
      "__________________________________________________________________________________________________\n",
      "embedding_481 (Embedding)       (None, 1, 6)         48          input_618[0][0]                  \n",
      "__________________________________________________________________________________________________\n",
      "embedding_482 (Embedding)       (None, 1, 6)         48          input_619[0][0]                  \n",
      "__________________________________________________________________________________________________\n",
      "embedding_483 (Embedding)       (None, 1, 6)         30          input_620[0][0]                  \n",
      "__________________________________________________________________________________________________\n",
      "embedding_484 (Embedding)       (None, 1, 6)         36          input_621[0][0]                  \n",
      "__________________________________________________________________________________________________\n",
      "embedding_485 (Embedding)       (None, 1, 6)         36          input_622[0][0]                  \n",
      "__________________________________________________________________________________________________\n",
      "embedding_486 (Embedding)       (None, 1, 6)         114         input_623[0][0]                  \n",
      "__________________________________________________________________________________________________\n",
      "embedding_487 (Embedding)       (None, 1, 6)         42          input_624[0][0]                  \n",
      "__________________________________________________________________________________________________\n",
      "embedding_488 (Embedding)       (None, 1, 6)         144         input_625[0][0]                  \n",
      "__________________________________________________________________________________________________\n",
      "embedding_489 (Embedding)       (None, 1, 6)         348         input_626[0][0]                  \n",
      "__________________________________________________________________________________________________\n",
      "embedding_490 (Embedding)       (None, 1, 6)         30          input_627[0][0]                  \n",
      "__________________________________________________________________________________________________\n",
      "embedding_491 (Embedding)       (None, 1, 6)         24          input_628[0][0]                  \n",
      "__________________________________________________________________________________________________\n",
      "embedding_492 (Embedding)       (None, 1, 6)         48          input_629[0][0]                  \n",
      "__________________________________________________________________________________________________\n",
      "embedding_493 (Embedding)       (None, 1, 6)         18          input_630[0][0]                  \n",
      "__________________________________________________________________________________________________\n",
      "dropout_635 (Dropout)           (None, 1, 6)         0           embedding_477[0][0]              \n",
      "__________________________________________________________________________________________________\n",
      "dropout_636 (Dropout)           (None, 1, 6)         0           embedding_478[0][0]              \n",
      "__________________________________________________________________________________________________\n",
      "dropout_637 (Dropout)           (None, 1, 6)         0           embedding_479[0][0]              \n",
      "__________________________________________________________________________________________________\n",
      "dropout_638 (Dropout)           (None, 1, 6)         0           embedding_480[0][0]              \n",
      "__________________________________________________________________________________________________\n",
      "dropout_639 (Dropout)           (None, 1, 6)         0           embedding_481[0][0]              \n",
      "__________________________________________________________________________________________________\n",
      "dropout_640 (Dropout)           (None, 1, 6)         0           embedding_482[0][0]              \n",
      "__________________________________________________________________________________________________\n",
      "dropout_641 (Dropout)           (None, 1, 6)         0           embedding_483[0][0]              \n",
      "__________________________________________________________________________________________________\n",
      "dropout_642 (Dropout)           (None, 1, 6)         0           embedding_484[0][0]              \n",
      "__________________________________________________________________________________________________\n",
      "dropout_643 (Dropout)           (None, 1, 6)         0           embedding_485[0][0]              \n",
      "__________________________________________________________________________________________________\n",
      "dropout_644 (Dropout)           (None, 1, 6)         0           embedding_486[0][0]              \n",
      "__________________________________________________________________________________________________\n",
      "dropout_645 (Dropout)           (None, 1, 6)         0           embedding_487[0][0]              \n",
      "__________________________________________________________________________________________________\n",
      "dropout_646 (Dropout)           (None, 1, 6)         0           embedding_488[0][0]              \n",
      "__________________________________________________________________________________________________\n",
      "dropout_647 (Dropout)           (None, 1, 6)         0           embedding_489[0][0]              \n",
      "__________________________________________________________________________________________________\n",
      "dropout_648 (Dropout)           (None, 1, 6)         0           embedding_490[0][0]              \n",
      "__________________________________________________________________________________________________\n",
      "dropout_649 (Dropout)           (None, 1, 6)         0           embedding_491[0][0]              \n",
      "__________________________________________________________________________________________________\n",
      "dropout_650 (Dropout)           (None, 1, 6)         0           embedding_492[0][0]              \n",
      "__________________________________________________________________________________________________\n",
      "dropout_651 (Dropout)           (None, 1, 6)         0           embedding_493[0][0]              \n",
      "__________________________________________________________________________________________________\n",
      "flatten_579 (Flatten)           (None, 6)            0           dropout_635[0][0]                \n",
      "__________________________________________________________________________________________________\n",
      "flatten_580 (Flatten)           (None, 6)            0           dropout_636[0][0]                \n",
      "__________________________________________________________________________________________________\n",
      "flatten_581 (Flatten)           (None, 6)            0           dropout_637[0][0]                \n",
      "__________________________________________________________________________________________________\n",
      "flatten_582 (Flatten)           (None, 6)            0           dropout_638[0][0]                \n",
      "__________________________________________________________________________________________________\n",
      "flatten_583 (Flatten)           (None, 6)            0           dropout_639[0][0]                \n",
      "__________________________________________________________________________________________________\n",
      "flatten_584 (Flatten)           (None, 6)            0           dropout_640[0][0]                \n",
      "__________________________________________________________________________________________________\n",
      "flatten_585 (Flatten)           (None, 6)            0           dropout_641[0][0]                \n",
      "__________________________________________________________________________________________________\n",
      "flatten_586 (Flatten)           (None, 6)            0           dropout_642[0][0]                \n",
      "__________________________________________________________________________________________________\n",
      "flatten_587 (Flatten)           (None, 6)            0           dropout_643[0][0]                \n",
      "__________________________________________________________________________________________________\n",
      "flatten_588 (Flatten)           (None, 6)            0           dropout_644[0][0]                \n",
      "__________________________________________________________________________________________________\n",
      "flatten_589 (Flatten)           (None, 6)            0           dropout_645[0][0]                \n",
      "__________________________________________________________________________________________________\n",
      "flatten_590 (Flatten)           (None, 6)            0           dropout_646[0][0]                \n",
      "__________________________________________________________________________________________________\n",
      "flatten_591 (Flatten)           (None, 6)            0           dropout_647[0][0]                \n",
      "__________________________________________________________________________________________________\n",
      "flatten_592 (Flatten)           (None, 6)            0           dropout_648[0][0]                \n",
      "__________________________________________________________________________________________________\n",
      "flatten_593 (Flatten)           (None, 6)            0           dropout_649[0][0]                \n",
      "__________________________________________________________________________________________________\n",
      "flatten_594 (Flatten)           (None, 6)            0           dropout_650[0][0]                \n",
      "__________________________________________________________________________________________________\n",
      "flatten_595 (Flatten)           (None, 6)            0           dropout_651[0][0]                \n",
      "__________________________________________________________________________________________________\n",
      "embedding (Merge)               (None, 102)          0           flatten_579[0][0]                \n",
      "                                                                 flatten_580[0][0]                \n",
      "                                                                 flatten_581[0][0]                \n",
      "                                                                 flatten_582[0][0]                \n",
      "                                                                 flatten_583[0][0]                \n",
      "                                                                 flatten_584[0][0]                \n",
      "                                                                 flatten_585[0][0]                \n",
      "                                                                 flatten_586[0][0]                \n",
      "                                                                 flatten_587[0][0]                \n",
      "                                                                 flatten_588[0][0]                \n",
      "                                                                 flatten_589[0][0]                \n",
      "                                                                 flatten_590[0][0]                \n",
      "                                                                 flatten_591[0][0]                \n",
      "                                                                 flatten_592[0][0]                \n",
      "                                                                 flatten_593[0][0]                \n",
      "                                                                 flatten_594[0][0]                \n",
      "                                                                 flatten_595[0][0]                \n",
      "__________________________________________________________________________________________________\n",
      "input_631 (InputLayer)          (None, 72)           0                                            \n",
      "__________________________________________________________________________________________________\n",
      "all (Merge)                     (None, 174)          0           embedding[0][0]                  \n",
      "                                                                 input_631[0][0]                  \n",
      "__________________________________________________________________________________________________\n",
      "dense_85 (Dense)                (None, 512)          89600       all[0][0]                        \n",
      "__________________________________________________________________________________________________\n",
      "p_re_lu_57 (PReLU)              (None, 512)          512         dense_85[0][0]                   \n",
      "__________________________________________________________________________________________________\n",
      "batch_normalization_57 (BatchNo (None, 512)          2048        p_re_lu_57[0][0]                 \n",
      "__________________________________________________________________________________________________\n",
      "dropout_652 (Dropout)           (None, 512)          0           batch_normalization_57[0][0]     \n",
      "__________________________________________________________________________________________________\n",
      "dense_86 (Dense)                (None, 64)           32832       dropout_652[0][0]                \n",
      "__________________________________________________________________________________________________\n",
      "p_re_lu_58 (PReLU)              (None, 64)           64          dense_86[0][0]                   \n",
      "__________________________________________________________________________________________________\n",
      "batch_normalization_58 (BatchNo (None, 64)           256         p_re_lu_58[0][0]                 \n",
      "__________________________________________________________________________________________________\n",
      "dropout_653 (Dropout)           (None, 64)           0           batch_normalization_58[0][0]     \n",
      "__________________________________________________________________________________________________\n",
      "dense_87 (Dense)                (None, 1)            65          dropout_653[0][0]                \n",
      "==================================================================================================\n",
      "Total params: 126,397\n",
      "Trainable params: 125,245\n",
      "Non-trainable params: 1,152\n",
      "__________________________________________________________________________________________________\n"
     ]
    }
   ],
   "source": [
    "model.summary()"
   ]
  },
  {
   "cell_type": "code",
   "execution_count": 101,
   "metadata": {},
   "outputs": [],
   "source": [
    "inputs = []\n",
    "flatten_layers = []\n",
    "for e, c in enumerate(cat_features):\n",
    "    name= 'embedding_layer_' + str(e)\n",
    "    inputs.append(name)\n",
    "\n"
   ]
  },
  {
   "cell_type": "code",
   "execution_count": 102,
   "metadata": {},
   "outputs": [
    {
     "data": {
      "text/plain": [
       "['embedding_layer_0',\n",
       " 'embedding_layer_1',\n",
       " 'embedding_layer_2',\n",
       " 'embedding_layer_3',\n",
       " 'embedding_layer_4',\n",
       " 'embedding_layer_5',\n",
       " 'embedding_layer_6',\n",
       " 'embedding_layer_7',\n",
       " 'embedding_layer_8',\n",
       " 'embedding_layer_9',\n",
       " 'embedding_layer_10',\n",
       " 'embedding_layer_11',\n",
       " 'embedding_layer_12',\n",
       " 'embedding_layer_13',\n",
       " 'embedding_layer_14',\n",
       " 'embedding_layer_15',\n",
       " 'embedding_layer_16']"
      ]
     },
     "execution_count": 102,
     "metadata": {},
     "output_type": "execute_result"
    }
   ],
   "source": [
    "inputs"
   ]
  },
  {
   "cell_type": "code",
   "execution_count": 150,
   "metadata": {},
   "outputs": [
    {
     "data": {
      "text/plain": [
       "<tf.Tensor 'embedding_494/concat:0' shape=(?, ?) dtype=float32>"
      ]
     },
     "execution_count": 150,
     "metadata": {},
     "output_type": "execute_result"
    }
   ],
   "source": [
    "model.get_layer('embedding').output"
   ]
  },
  {
   "cell_type": "code",
   "execution_count": 168,
   "metadata": {},
   "outputs": [],
   "source": [
    "embedded_features_model = Model(inputs=model.input[0:-1], outputs=model.get_layer('embedding').output) \n"
   ]
  },
  {
   "cell_type": "code",
   "execution_count": 167,
   "metadata": {},
   "outputs": [
    {
     "data": {
      "text/plain": [
       "[<tf.Tensor 'input_614:0' shape=(?, 1) dtype=int32>,\n",
       " <tf.Tensor 'input_615:0' shape=(?, 1) dtype=int32>,\n",
       " <tf.Tensor 'input_616:0' shape=(?, 1) dtype=int32>,\n",
       " <tf.Tensor 'input_617:0' shape=(?, 1) dtype=int32>,\n",
       " <tf.Tensor 'input_618:0' shape=(?, 1) dtype=int32>,\n",
       " <tf.Tensor 'input_619:0' shape=(?, 1) dtype=int32>,\n",
       " <tf.Tensor 'input_620:0' shape=(?, 1) dtype=int32>,\n",
       " <tf.Tensor 'input_621:0' shape=(?, 1) dtype=int32>,\n",
       " <tf.Tensor 'input_622:0' shape=(?, 1) dtype=int32>,\n",
       " <tf.Tensor 'input_623:0' shape=(?, 1) dtype=int32>,\n",
       " <tf.Tensor 'input_624:0' shape=(?, 1) dtype=int32>,\n",
       " <tf.Tensor 'input_625:0' shape=(?, 1) dtype=int32>,\n",
       " <tf.Tensor 'input_626:0' shape=(?, 1) dtype=int32>,\n",
       " <tf.Tensor 'input_627:0' shape=(?, 1) dtype=int32>,\n",
       " <tf.Tensor 'input_628:0' shape=(?, 1) dtype=int32>,\n",
       " <tf.Tensor 'input_629:0' shape=(?, 1) dtype=int32>,\n",
       " <tf.Tensor 'input_630:0' shape=(?, 1) dtype=int32>]"
      ]
     },
     "execution_count": 167,
     "metadata": {},
     "output_type": "execute_result"
    }
   ],
   "source": [
    "model.input[0:-1]"
   ]
  },
  {
   "cell_type": "code",
   "execution_count": 165,
   "metadata": {},
   "outputs": [
    {
     "data": {
      "text/plain": [
       "(246009, 72)"
      ]
     },
     "execution_count": 165,
     "metadata": {},
     "output_type": "execute_result"
    }
   ],
   "source": [
    "xtr_cat_list[17].shape"
   ]
  },
  {
   "cell_type": "code",
   "execution_count": 169,
   "metadata": {},
   "outputs": [],
   "source": [
    "embedded_features_train = embedded_features_model.predict(xtr_cat_list[0:-1])"
   ]
  },
  {
   "cell_type": "code",
   "execution_count": 176,
   "metadata": {},
   "outputs": [
    {
     "data": {
      "text/plain": [
       "(246009, 102)"
      ]
     },
     "execution_count": 176,
     "metadata": {},
     "output_type": "execute_result"
    }
   ],
   "source": [
    "embedded_features_train.shape"
   ]
  },
  {
   "cell_type": "code",
   "execution_count": 99,
   "metadata": {},
   "outputs": [
    {
     "data": {
      "text/plain": [
       "18"
      ]
     },
     "execution_count": 99,
     "metadata": {},
     "output_type": "execute_result"
    }
   ],
   "source": [
    "len(xtr_cat_list)"
   ]
  },
  {
   "cell_type": "code",
   "execution_count": 171,
   "metadata": {},
   "outputs": [
    {
     "data": {
      "text/plain": [
       "(246009, 102)"
      ]
     },
     "execution_count": 171,
     "metadata": {},
     "output_type": "execute_result"
    }
   ],
   "source": [
    "embedded_features_train.shape"
   ]
  },
  {
   "cell_type": "code",
   "execution_count": 172,
   "metadata": {},
   "outputs": [
    {
     "data": {
      "text/plain": [
       "array([ 0.1796346 ,  0.18139878, -0.16695075, -0.2034567 ,  0.14897706,\n",
       "       -0.14072777, -0.12307332,  0.04396079, -0.11771409, -0.20023814,\n",
       "        0.10661795, -0.21523684,  0.16264682,  0.13940103, -0.19735573,\n",
       "        0.11535189, -0.10254943, -0.14167127,  0.02101806,  0.17427869,\n",
       "        0.0276799 , -0.10359795,  0.1223225 , -0.1040542 , -0.14784789,\n",
       "       -0.06371597,  0.11416012,  0.03310515,  0.03340962, -0.14494094,\n",
       "        0.12431963,  0.09730543,  0.08371974,  0.1484717 ,  0.10437058,\n",
       "       -0.11263569,  0.13712513, -0.13281515, -0.06487958,  0.1373709 ,\n",
       "       -0.05361715, -0.08410319, -0.03786104, -0.07568193, -0.05253077,\n",
       "        0.01883043, -0.0107798 , -0.0018675 , -0.13564554,  0.1061696 ,\n",
       "        0.06811448, -0.12573121, -0.17051165,  0.12894347, -0.05158365,\n",
       "       -0.09940769, -0.05015821, -0.07494926,  0.02835752, -0.07486555,\n",
       "       -0.00689175,  0.0739475 ,  0.00406729,  0.00509849, -0.06369077,\n",
       "       -0.04260473, -0.05918357,  0.09956083,  0.00392976,  0.0225579 ,\n",
       "       -0.03193199,  0.04213674, -0.01664652,  0.07449077,  0.0380085 ,\n",
       "        0.0908015 , -0.06597999, -0.13169098, -0.10119162, -0.12211193,\n",
       "       -0.05366684, -0.0077768 , -0.0548288 , -0.17405751, -0.20263739,\n",
       "        0.09723561,  0.17648892,  0.08765704, -0.20678711,  0.11864643,\n",
       "        0.07053674, -0.08077366,  0.06016047, -0.03290196, -0.0440288 ,\n",
       "       -0.0330861 , -0.0813464 ,  0.20621914,  0.10567556, -0.07412162,\n",
       "        0.15282975,  0.15150695], dtype=float32)"
      ]
     },
     "execution_count": 172,
     "metadata": {},
     "output_type": "execute_result"
    }
   ],
   "source": [
    "embedded_features_train[0]"
   ]
  },
  {
   "cell_type": "code",
   "execution_count": 68,
   "metadata": {},
   "outputs": [
    {
     "data": {
      "text/plain": [
       "(307511, 121)"
      ]
     },
     "execution_count": 68,
     "metadata": {},
     "output_type": "execute_result"
    }
   ],
   "source": [
    "X_train.shape"
   ]
  },
  {
   "cell_type": "code",
   "execution_count": 74,
   "metadata": {},
   "outputs": [
    {
     "data": {
      "text/plain": [
       "(246009,)"
      ]
     },
     "execution_count": 74,
     "metadata": {},
     "output_type": "execute_result"
    }
   ],
   "source": [
    "embedded_features_train[:,1].shape"
   ]
  },
  {
   "cell_type": "code",
   "execution_count": 75,
   "metadata": {},
   "outputs": [
    {
     "data": {
      "text/plain": [
       "0.8000006503832383"
      ]
     },
     "execution_count": 75,
     "metadata": {},
     "output_type": "execute_result"
    }
   ],
   "source": []
  },
  {
   "cell_type": "code",
   "execution_count": 77,
   "metadata": {},
   "outputs": [
    {
     "data": {
      "text/plain": [
       "(48744, 17)"
      ]
     },
     "execution_count": 77,
     "metadata": {},
     "output_type": "execute_result"
    }
   ],
   "source": [
    "X_test_cat.shape"
   ]
  },
  {
   "cell_type": "code",
   "execution_count": 78,
   "metadata": {},
   "outputs": [
    {
     "data": {
      "text/plain": [
       "17"
      ]
     },
     "execution_count": 78,
     "metadata": {},
     "output_type": "execute_result"
    }
   ],
   "source": [
    "X_test_cat.shape[1]"
   ]
  },
  {
   "cell_type": "code",
   "execution_count": 87,
   "metadata": {},
   "outputs": [
    {
     "data": {
      "text/plain": [
       "18"
      ]
     },
     "execution_count": 87,
     "metadata": {},
     "output_type": "execute_result"
    }
   ],
   "source": [
    "len(xtr_cat_list)"
   ]
  },
  {
   "cell_type": "code",
   "execution_count": 91,
   "metadata": {},
   "outputs": [
    {
     "data": {
      "text/plain": [
       "(307511, 72)"
      ]
     },
     "execution_count": 91,
     "metadata": {},
     "output_type": "execute_result"
    }
   ],
   "source": [
    "X.shape"
   ]
  },
  {
   "cell_type": "code",
   "execution_count": null,
   "metadata": {},
   "outputs": [],
   "source": []
  }
 ],
 "metadata": {
  "kernelspec": {
   "display_name": "Python 3",
   "language": "python",
   "name": "python3"
  },
  "language_info": {
   "codemirror_mode": {
    "name": "ipython",
    "version": 3
   },
   "file_extension": ".py",
   "mimetype": "text/x-python",
   "name": "python",
   "nbconvert_exporter": "python",
   "pygments_lexer": "ipython3",
   "version": "3.6.5"
  }
 },
 "nbformat": 4,
 "nbformat_minor": 2
}
